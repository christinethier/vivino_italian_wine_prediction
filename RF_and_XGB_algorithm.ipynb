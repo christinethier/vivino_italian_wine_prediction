{
  "cells": [
    {
      "cell_type": "code",
      "execution_count": 1,
      "metadata": {
        "id": "R_sHjn-Dr66M"
      },
      "outputs": [],
      "source": [
        "import pandas as pd\n",
        "from sklearn.model_selection import train_test_split\n",
        "from sklearn.preprocessing import OneHotEncoder\n",
        "from sklearn.impute import SimpleImputer\n",
        "from sklearn.compose import ColumnTransformer\n",
        "from sklearn.pipeline import Pipeline\n",
        "from sklearn.model_selection import GridSearchCV\n",
        "from sklearn.ensemble import RandomForestRegressor\n",
        "import matplotlib.pyplot as plt\n",
        "import numpy as np\n",
        "from sklearn.metrics import make_scorer, r2_score, mean_squared_error\n",
        "import matplotlib.pyplot as plt\n",
        "\n",
        "import xgboost as xgb"
      ]
    },
    {
      "cell_type": "code",
      "execution_count": 2,
      "metadata": {
        "id": "EsPWsoMQRwlC"
      },
      "outputs": [],
      "source": [
        "# Load the dataset\n",
        "data = pd.read_csv('/Users/christinethier/Desktop/merged_data.csv')\n",
        "\n",
        "# Preprocess the data\n",
        "data_cleaned = data.drop(['Unnamed: 0', 'name', 'winery'], axis=1)  # Adjust as needed\n",
        "X = data_cleaned.drop('rating', axis=1)\n",
        "y = data_cleaned['rating']\n",
        "X_train, X_test, y_train, y_test = train_test_split(X, y, test_size=0.2, random_state=0)\n",
        "\n",
        "# Define preprocessing for numerical and categorical data\n",
        "numerical_cols = X_train.select_dtypes(include=['int64', 'float64']).columns\n",
        "categorical_cols = X_train.select_dtypes(include=['object']).columns"
      ]
    },
    {
      "cell_type": "code",
      "execution_count": 3,
      "metadata": {
        "colab": {
          "base_uri": "https://localhost:8080/",
          "height": 300
        },
        "id": "RoBM9TCpR1DY",
        "outputId": "8e0e2092-dee8-4676-c5d4-21c10c21cbef"
      },
      "outputs": [
        {
          "data": {
            "text/html": [
              "<div>\n",
              "<style scoped>\n",
              "    .dataframe tbody tr th:only-of-type {\n",
              "        vertical-align: middle;\n",
              "    }\n",
              "\n",
              "    .dataframe tbody tr th {\n",
              "        vertical-align: top;\n",
              "    }\n",
              "\n",
              "    .dataframe thead th {\n",
              "        text-align: right;\n",
              "    }\n",
              "</style>\n",
              "<table border=\"1\" class=\"dataframe\">\n",
              "  <thead>\n",
              "    <tr style=\"text-align: right;\">\n",
              "      <th></th>\n",
              "      <th>Unnamed: 0</th>\n",
              "      <th>rating</th>\n",
              "      <th>year</th>\n",
              "      <th>price_DKK</th>\n",
              "      <th>total_ratings</th>\n",
              "      <th>total_reviews</th>\n",
              "      <th>light-bold</th>\n",
              "      <th>smooth-tannic</th>\n",
              "      <th>dry-sweet</th>\n",
              "      <th>soft-acidic</th>\n",
              "    </tr>\n",
              "  </thead>\n",
              "  <tbody>\n",
              "    <tr>\n",
              "      <th>count</th>\n",
              "      <td>7895.000000</td>\n",
              "      <td>7895.000000</td>\n",
              "      <td>7895.000000</td>\n",
              "      <td>7895.000000</td>\n",
              "      <td>7895.000000</td>\n",
              "      <td>7895.000000</td>\n",
              "      <td>7895.000000</td>\n",
              "      <td>7895.000000</td>\n",
              "      <td>7895.000000</td>\n",
              "      <td>7895.000000</td>\n",
              "    </tr>\n",
              "    <tr>\n",
              "      <th>mean</th>\n",
              "      <td>3947.000000</td>\n",
              "      <td>4.194820</td>\n",
              "      <td>2010.545028</td>\n",
              "      <td>840.799951</td>\n",
              "      <td>772.783914</td>\n",
              "      <td>963.003040</td>\n",
              "      <td>0.585282</td>\n",
              "      <td>0.462164</td>\n",
              "      <td>0.152078</td>\n",
              "      <td>0.486437</td>\n",
              "    </tr>\n",
              "    <tr>\n",
              "      <th>std</th>\n",
              "      <td>2279.234521</td>\n",
              "      <td>0.358069</td>\n",
              "      <td>6.929609</td>\n",
              "      <td>1438.943777</td>\n",
              "      <td>1301.906205</td>\n",
              "      <td>1576.508854</td>\n",
              "      <td>0.133882</td>\n",
              "      <td>0.182015</td>\n",
              "      <td>0.153446</td>\n",
              "      <td>0.224509</td>\n",
              "    </tr>\n",
              "    <tr>\n",
              "      <th>min</th>\n",
              "      <td>0.000000</td>\n",
              "      <td>2.800000</td>\n",
              "      <td>1917.000000</td>\n",
              "      <td>11.750000</td>\n",
              "      <td>25.000000</td>\n",
              "      <td>1.000000</td>\n",
              "      <td>0.231590</td>\n",
              "      <td>0.085450</td>\n",
              "      <td>0.000000</td>\n",
              "      <td>0.008667</td>\n",
              "    </tr>\n",
              "    <tr>\n",
              "      <th>25%</th>\n",
              "      <td>1973.500000</td>\n",
              "      <td>3.900000</td>\n",
              "      <td>2008.000000</td>\n",
              "      <td>159.975000</td>\n",
              "      <td>76.000000</td>\n",
              "      <td>125.000000</td>\n",
              "      <td>0.474412</td>\n",
              "      <td>0.340428</td>\n",
              "      <td>0.040919</td>\n",
              "      <td>0.255695</td>\n",
              "    </tr>\n",
              "    <tr>\n",
              "      <th>50%</th>\n",
              "      <td>3947.000000</td>\n",
              "      <td>4.300000</td>\n",
              "      <td>2012.000000</td>\n",
              "      <td>375.000000</td>\n",
              "      <td>200.000000</td>\n",
              "      <td>414.000000</td>\n",
              "      <td>0.588094</td>\n",
              "      <td>0.419206</td>\n",
              "      <td>0.084284</td>\n",
              "      <td>0.474183</td>\n",
              "    </tr>\n",
              "    <tr>\n",
              "      <th>75%</th>\n",
              "      <td>5920.500000</td>\n",
              "      <td>4.500000</td>\n",
              "      <td>2015.000000</td>\n",
              "      <td>826.080000</td>\n",
              "      <td>1176.000000</td>\n",
              "      <td>1046.000000</td>\n",
              "      <td>0.646982</td>\n",
              "      <td>0.584629</td>\n",
              "      <td>0.231508</td>\n",
              "      <td>0.628518</td>\n",
              "    </tr>\n",
              "    <tr>\n",
              "      <th>max</th>\n",
              "      <td>7894.000000</td>\n",
              "      <td>4.900000</td>\n",
              "      <td>2019.000000</td>\n",
              "      <td>23050.680000</td>\n",
              "      <td>14526.000000</td>\n",
              "      <td>12013.000000</td>\n",
              "      <td>0.825000</td>\n",
              "      <td>0.825000</td>\n",
              "      <td>0.586491</td>\n",
              "      <td>0.825000</td>\n",
              "    </tr>\n",
              "  </tbody>\n",
              "</table>\n",
              "</div>"
            ],
            "text/plain": [
              "        Unnamed: 0       rating         year     price_DKK  total_ratings  \\\n",
              "count  7895.000000  7895.000000  7895.000000   7895.000000    7895.000000   \n",
              "mean   3947.000000     4.194820  2010.545028    840.799951     772.783914   \n",
              "std    2279.234521     0.358069     6.929609   1438.943777    1301.906205   \n",
              "min       0.000000     2.800000  1917.000000     11.750000      25.000000   \n",
              "25%    1973.500000     3.900000  2008.000000    159.975000      76.000000   \n",
              "50%    3947.000000     4.300000  2012.000000    375.000000     200.000000   \n",
              "75%    5920.500000     4.500000  2015.000000    826.080000    1176.000000   \n",
              "max    7894.000000     4.900000  2019.000000  23050.680000   14526.000000   \n",
              "\n",
              "       total_reviews   light-bold  smooth-tannic    dry-sweet  soft-acidic  \n",
              "count    7895.000000  7895.000000    7895.000000  7895.000000  7895.000000  \n",
              "mean      963.003040     0.585282       0.462164     0.152078     0.486437  \n",
              "std      1576.508854     0.133882       0.182015     0.153446     0.224509  \n",
              "min         1.000000     0.231590       0.085450     0.000000     0.008667  \n",
              "25%       125.000000     0.474412       0.340428     0.040919     0.255695  \n",
              "50%       414.000000     0.588094       0.419206     0.084284     0.474183  \n",
              "75%      1046.000000     0.646982       0.584629     0.231508     0.628518  \n",
              "max     12013.000000     0.825000       0.825000     0.586491     0.825000  "
            ]
          },
          "execution_count": 3,
          "metadata": {},
          "output_type": "execute_result"
        }
      ],
      "source": [
        "data.describe()"
      ]
    },
    {
      "cell_type": "markdown",
      "metadata": {
        "id": "WPzrk9o5SDtg"
      },
      "source": [
        "For random forest & XGBoost the scale of the features doesn't matter. But it gives a nice overview anyway."
      ]
    },
    {
      "cell_type": "code",
      "execution_count": 4,
      "metadata": {
        "colab": {
          "base_uri": "https://localhost:8080/"
        },
        "id": "p8KWRl_wSChO",
        "outputId": "b8cb66a9-a12a-4886-bddf-99e31b64a8d7"
      },
      "outputs": [
        {
          "data": {
            "text/plain": [
              "Index(['year', 'price_DKK', 'total_ratings', 'total_reviews', 'light-bold',\n",
              "       'smooth-tannic', 'dry-sweet', 'soft-acidic'],\n",
              "      dtype='object')"
            ]
          },
          "execution_count": 4,
          "metadata": {},
          "output_type": "execute_result"
        }
      ],
      "source": [
        "numerical_cols"
      ]
    },
    {
      "cell_type": "code",
      "execution_count": 5,
      "metadata": {
        "colab": {
          "base_uri": "https://localhost:8080/"
        },
        "id": "zKVw2yL5SUc7",
        "outputId": "4d3e9672-27c4-43f4-bf46-aab003a7e2b4"
      },
      "outputs": [
        {
          "data": {
            "text/plain": [
              "Index(['sub_region', 'light-bold-cat', 'smooth-tannic-cat', 'dry-sweet-cat',\n",
              "       'soft-acidic-cat', 'region', 'cardinal_1', 'cardinal_2'],\n",
              "      dtype='object')"
            ]
          },
          "execution_count": 5,
          "metadata": {},
          "output_type": "execute_result"
        }
      ],
      "source": [
        "categorical_cols"
      ]
    },
    {
      "cell_type": "markdown",
      "metadata": {
        "id": "dvJPIyy1S9y3"
      },
      "source": [
        "Let's also for good practice look for null/nan values:"
      ]
    },
    {
      "cell_type": "code",
      "execution_count": 6,
      "metadata": {
        "colab": {
          "base_uri": "https://localhost:8080/"
        },
        "id": "nPf0pDdbStS5",
        "outputId": "5512c7f0-26fe-4edf-95f7-2ca23a29f7b3"
      },
      "outputs": [
        {
          "data": {
            "text/plain": [
              "Unnamed: 0           False\n",
              "name                 False\n",
              "rating               False\n",
              "sub_region           False\n",
              "year                 False\n",
              "price_DKK            False\n",
              "total_ratings        False\n",
              "total_reviews        False\n",
              "light-bold           False\n",
              "smooth-tannic        False\n",
              "dry-sweet            False\n",
              "soft-acidic          False\n",
              "winery                True\n",
              "light-bold-cat       False\n",
              "smooth-tannic-cat    False\n",
              "dry-sweet-cat        False\n",
              "soft-acidic-cat      False\n",
              "region               False\n",
              "cardinal_1           False\n",
              "cardinal_2           False\n",
              "dtype: bool"
            ]
          },
          "execution_count": 6,
          "metadata": {},
          "output_type": "execute_result"
        }
      ],
      "source": [
        "data.isna().any()"
      ]
    },
    {
      "cell_type": "markdown",
      "metadata": {
        "id": "AhmEp0BLT4th"
      },
      "source": [
        "Since we use XGBoost and Random Forest they can handle the missing values internally.\n",
        "\n",
        "However, we might as well build a robust model, which can take care of these issues, should they appear.\n",
        "\n",
        "For our numerical features we impute missing values with the mean and for categorical features we treat unseen categories as nan values. Luckily, we can build this robustness into the model directly:"
      ]
    },
    {
      "cell_type": "markdown",
      "metadata": {
        "id": "9o2uZY8ln61z"
      },
      "source": [
        "## XGBoost"
      ]
    },
    {
      "cell_type": "markdown",
      "metadata": {
        "id": "Z12YDJfwmOCw"
      },
      "source": [
        "Just a qucikly trained model"
      ]
    },
    {
      "cell_type": "code",
      "execution_count": 7,
      "metadata": {
        "colab": {
          "base_uri": "https://localhost:8080/"
        },
        "id": "bhHHsvqGky6b",
        "outputId": "0ba77056-fb97-4b33-bcf2-bbae855c5956"
      },
      "outputs": [
        {
          "name": "stdout",
          "output_type": "stream",
          "text": [
            "Model Score: 0.8397976064684501\n"
          ]
        }
      ],
      "source": [
        "preprocessor = ColumnTransformer(\n",
        "    transformers=[\n",
        "        ('num', SimpleImputer(strategy='mean'), numerical_cols),\n",
        "        ('cat', OneHotEncoder(handle_unknown='ignore'), categorical_cols),\n",
        "    ])\n",
        "\n",
        "# Define the model\n",
        "model = xgb.XGBRegressor(objective='reg:squarederror', random_state=0)\n",
        "\n",
        "# Create and fit the pipeline\n",
        "pipeline = Pipeline(steps=[('preprocessor', preprocessor), ('model', model)])\n",
        "pipeline.fit(X_train, y_train)\n",
        "\n",
        "# Evaluate the model\n",
        "score = pipeline.score(X_test, y_test)\n",
        "print(f'Model Score: {score}') # R²\n"
      ]
    },
    {
      "cell_type": "code",
      "execution_count": 8,
      "metadata": {
        "colab": {
          "base_uri": "https://localhost:8080/",
          "height": 192
        },
        "id": "QkKyQIQ0mo5d",
        "outputId": "80c64ce7-1823-4d84-d61c-b1c94d215f40"
      },
      "outputs": [
        {
          "data": {
            "text/html": [
              "<style>#sk-container-id-1 {color: black;background-color: white;}#sk-container-id-1 pre{padding: 0;}#sk-container-id-1 div.sk-toggleable {background-color: white;}#sk-container-id-1 label.sk-toggleable__label {cursor: pointer;display: block;width: 100%;margin-bottom: 0;padding: 0.3em;box-sizing: border-box;text-align: center;}#sk-container-id-1 label.sk-toggleable__label-arrow:before {content: \"▸\";float: left;margin-right: 0.25em;color: #696969;}#sk-container-id-1 label.sk-toggleable__label-arrow:hover:before {color: black;}#sk-container-id-1 div.sk-estimator:hover label.sk-toggleable__label-arrow:before {color: black;}#sk-container-id-1 div.sk-toggleable__content {max-height: 0;max-width: 0;overflow: hidden;text-align: left;background-color: #f0f8ff;}#sk-container-id-1 div.sk-toggleable__content pre {margin: 0.2em;color: black;border-radius: 0.25em;background-color: #f0f8ff;}#sk-container-id-1 input.sk-toggleable__control:checked~div.sk-toggleable__content {max-height: 200px;max-width: 100%;overflow: auto;}#sk-container-id-1 input.sk-toggleable__control:checked~label.sk-toggleable__label-arrow:before {content: \"▾\";}#sk-container-id-1 div.sk-estimator input.sk-toggleable__control:checked~label.sk-toggleable__label {background-color: #d4ebff;}#sk-container-id-1 div.sk-label input.sk-toggleable__control:checked~label.sk-toggleable__label {background-color: #d4ebff;}#sk-container-id-1 input.sk-hidden--visually {border: 0;clip: rect(1px 1px 1px 1px);clip: rect(1px, 1px, 1px, 1px);height: 1px;margin: -1px;overflow: hidden;padding: 0;position: absolute;width: 1px;}#sk-container-id-1 div.sk-estimator {font-family: monospace;background-color: #f0f8ff;border: 1px dotted black;border-radius: 0.25em;box-sizing: border-box;margin-bottom: 0.5em;}#sk-container-id-1 div.sk-estimator:hover {background-color: #d4ebff;}#sk-container-id-1 div.sk-parallel-item::after {content: \"\";width: 100%;border-bottom: 1px solid gray;flex-grow: 1;}#sk-container-id-1 div.sk-label:hover label.sk-toggleable__label {background-color: #d4ebff;}#sk-container-id-1 div.sk-serial::before {content: \"\";position: absolute;border-left: 1px solid gray;box-sizing: border-box;top: 0;bottom: 0;left: 50%;z-index: 0;}#sk-container-id-1 div.sk-serial {display: flex;flex-direction: column;align-items: center;background-color: white;padding-right: 0.2em;padding-left: 0.2em;position: relative;}#sk-container-id-1 div.sk-item {position: relative;z-index: 1;}#sk-container-id-1 div.sk-parallel {display: flex;align-items: stretch;justify-content: center;background-color: white;position: relative;}#sk-container-id-1 div.sk-item::before, #sk-container-id-1 div.sk-parallel-item::before {content: \"\";position: absolute;border-left: 1px solid gray;box-sizing: border-box;top: 0;bottom: 0;left: 50%;z-index: -1;}#sk-container-id-1 div.sk-parallel-item {display: flex;flex-direction: column;z-index: 1;position: relative;background-color: white;}#sk-container-id-1 div.sk-parallel-item:first-child::after {align-self: flex-end;width: 50%;}#sk-container-id-1 div.sk-parallel-item:last-child::after {align-self: flex-start;width: 50%;}#sk-container-id-1 div.sk-parallel-item:only-child::after {width: 0;}#sk-container-id-1 div.sk-dashed-wrapped {border: 1px dashed gray;margin: 0 0.4em 0.5em 0.4em;box-sizing: border-box;padding-bottom: 0.4em;background-color: white;}#sk-container-id-1 div.sk-label label {font-family: monospace;font-weight: bold;display: inline-block;line-height: 1.2em;}#sk-container-id-1 div.sk-label-container {text-align: center;}#sk-container-id-1 div.sk-container {/* jupyter's `normalize.less` sets `[hidden] { display: none; }` but bootstrap.min.css set `[hidden] { display: none !important; }` so we also need the `!important` here to be able to override the default hidden behavior on the sphinx rendered scikit-learn.org. See: https://github.com/scikit-learn/scikit-learn/issues/21755 */display: inline-block !important;position: relative;}#sk-container-id-1 div.sk-text-repr-fallback {display: none;}</style><div id=\"sk-container-id-1\" class=\"sk-top-container\"><div class=\"sk-text-repr-fallback\"><pre>Pipeline(steps=[(&#x27;preprocessor&#x27;,\n",
              "                 ColumnTransformer(transformers=[(&#x27;num&#x27;, SimpleImputer(),\n",
              "                                                  Index([&#x27;year&#x27;, &#x27;price_DKK&#x27;, &#x27;total_ratings&#x27;, &#x27;total_reviews&#x27;, &#x27;light-bold&#x27;,\n",
              "       &#x27;smooth-tannic&#x27;, &#x27;dry-sweet&#x27;, &#x27;soft-acidic&#x27;],\n",
              "      dtype=&#x27;object&#x27;)),\n",
              "                                                 (&#x27;cat&#x27;,\n",
              "                                                  OneHotEncoder(handle_unknown=&#x27;ignore&#x27;),\n",
              "                                                  Index([&#x27;sub_region&#x27;, &#x27;light-bold-cat&#x27;, &#x27;smooth-tannic-cat&#x27;, &#x27;dry-sweet-cat&#x27;,\n",
              "       &#x27;soft-acidic-...\n",
              "                              feature_types=None, gamma=None, gpu_id=None,\n",
              "                              grow_policy=None, importance_type=None,\n",
              "                              interaction_constraints=None, learning_rate=None,\n",
              "                              max_bin=None, max_cat_threshold=None,\n",
              "                              max_cat_to_onehot=None, max_delta_step=None,\n",
              "                              max_depth=None, max_leaves=None,\n",
              "                              min_child_weight=None, missing=nan,\n",
              "                              monotone_constraints=None, n_estimators=100,\n",
              "                              n_jobs=None, num_parallel_tree=None,\n",
              "                              predictor=None, random_state=0, ...))])</pre><b>In a Jupyter environment, please rerun this cell to show the HTML representation or trust the notebook. <br />On GitHub, the HTML representation is unable to render, please try loading this page with nbviewer.org.</b></div><div class=\"sk-container\" hidden><div class=\"sk-item sk-dashed-wrapped\"><div class=\"sk-label-container\"><div class=\"sk-label sk-toggleable\"><input class=\"sk-toggleable__control sk-hidden--visually\" id=\"sk-estimator-id-1\" type=\"checkbox\" ><label for=\"sk-estimator-id-1\" class=\"sk-toggleable__label sk-toggleable__label-arrow\">Pipeline</label><div class=\"sk-toggleable__content\"><pre>Pipeline(steps=[(&#x27;preprocessor&#x27;,\n",
              "                 ColumnTransformer(transformers=[(&#x27;num&#x27;, SimpleImputer(),\n",
              "                                                  Index([&#x27;year&#x27;, &#x27;price_DKK&#x27;, &#x27;total_ratings&#x27;, &#x27;total_reviews&#x27;, &#x27;light-bold&#x27;,\n",
              "       &#x27;smooth-tannic&#x27;, &#x27;dry-sweet&#x27;, &#x27;soft-acidic&#x27;],\n",
              "      dtype=&#x27;object&#x27;)),\n",
              "                                                 (&#x27;cat&#x27;,\n",
              "                                                  OneHotEncoder(handle_unknown=&#x27;ignore&#x27;),\n",
              "                                                  Index([&#x27;sub_region&#x27;, &#x27;light-bold-cat&#x27;, &#x27;smooth-tannic-cat&#x27;, &#x27;dry-sweet-cat&#x27;,\n",
              "       &#x27;soft-acidic-...\n",
              "                              feature_types=None, gamma=None, gpu_id=None,\n",
              "                              grow_policy=None, importance_type=None,\n",
              "                              interaction_constraints=None, learning_rate=None,\n",
              "                              max_bin=None, max_cat_threshold=None,\n",
              "                              max_cat_to_onehot=None, max_delta_step=None,\n",
              "                              max_depth=None, max_leaves=None,\n",
              "                              min_child_weight=None, missing=nan,\n",
              "                              monotone_constraints=None, n_estimators=100,\n",
              "                              n_jobs=None, num_parallel_tree=None,\n",
              "                              predictor=None, random_state=0, ...))])</pre></div></div></div><div class=\"sk-serial\"><div class=\"sk-item sk-dashed-wrapped\"><div class=\"sk-label-container\"><div class=\"sk-label sk-toggleable\"><input class=\"sk-toggleable__control sk-hidden--visually\" id=\"sk-estimator-id-2\" type=\"checkbox\" ><label for=\"sk-estimator-id-2\" class=\"sk-toggleable__label sk-toggleable__label-arrow\">preprocessor: ColumnTransformer</label><div class=\"sk-toggleable__content\"><pre>ColumnTransformer(transformers=[(&#x27;num&#x27;, SimpleImputer(),\n",
              "                                 Index([&#x27;year&#x27;, &#x27;price_DKK&#x27;, &#x27;total_ratings&#x27;, &#x27;total_reviews&#x27;, &#x27;light-bold&#x27;,\n",
              "       &#x27;smooth-tannic&#x27;, &#x27;dry-sweet&#x27;, &#x27;soft-acidic&#x27;],\n",
              "      dtype=&#x27;object&#x27;)),\n",
              "                                (&#x27;cat&#x27;, OneHotEncoder(handle_unknown=&#x27;ignore&#x27;),\n",
              "                                 Index([&#x27;sub_region&#x27;, &#x27;light-bold-cat&#x27;, &#x27;smooth-tannic-cat&#x27;, &#x27;dry-sweet-cat&#x27;,\n",
              "       &#x27;soft-acidic-cat&#x27;, &#x27;region&#x27;, &#x27;cardinal_1&#x27;, &#x27;cardinal_2&#x27;],\n",
              "      dtype=&#x27;object&#x27;))])</pre></div></div></div><div class=\"sk-parallel\"><div class=\"sk-parallel-item\"><div class=\"sk-item\"><div class=\"sk-label-container\"><div class=\"sk-label sk-toggleable\"><input class=\"sk-toggleable__control sk-hidden--visually\" id=\"sk-estimator-id-3\" type=\"checkbox\" ><label for=\"sk-estimator-id-3\" class=\"sk-toggleable__label sk-toggleable__label-arrow\">num</label><div class=\"sk-toggleable__content\"><pre>Index([&#x27;year&#x27;, &#x27;price_DKK&#x27;, &#x27;total_ratings&#x27;, &#x27;total_reviews&#x27;, &#x27;light-bold&#x27;,\n",
              "       &#x27;smooth-tannic&#x27;, &#x27;dry-sweet&#x27;, &#x27;soft-acidic&#x27;],\n",
              "      dtype=&#x27;object&#x27;)</pre></div></div></div><div class=\"sk-serial\"><div class=\"sk-item\"><div class=\"sk-estimator sk-toggleable\"><input class=\"sk-toggleable__control sk-hidden--visually\" id=\"sk-estimator-id-4\" type=\"checkbox\" ><label for=\"sk-estimator-id-4\" class=\"sk-toggleable__label sk-toggleable__label-arrow\">SimpleImputer</label><div class=\"sk-toggleable__content\"><pre>SimpleImputer()</pre></div></div></div></div></div></div><div class=\"sk-parallel-item\"><div class=\"sk-item\"><div class=\"sk-label-container\"><div class=\"sk-label sk-toggleable\"><input class=\"sk-toggleable__control sk-hidden--visually\" id=\"sk-estimator-id-5\" type=\"checkbox\" ><label for=\"sk-estimator-id-5\" class=\"sk-toggleable__label sk-toggleable__label-arrow\">cat</label><div class=\"sk-toggleable__content\"><pre>Index([&#x27;sub_region&#x27;, &#x27;light-bold-cat&#x27;, &#x27;smooth-tannic-cat&#x27;, &#x27;dry-sweet-cat&#x27;,\n",
              "       &#x27;soft-acidic-cat&#x27;, &#x27;region&#x27;, &#x27;cardinal_1&#x27;, &#x27;cardinal_2&#x27;],\n",
              "      dtype=&#x27;object&#x27;)</pre></div></div></div><div class=\"sk-serial\"><div class=\"sk-item\"><div class=\"sk-estimator sk-toggleable\"><input class=\"sk-toggleable__control sk-hidden--visually\" id=\"sk-estimator-id-6\" type=\"checkbox\" ><label for=\"sk-estimator-id-6\" class=\"sk-toggleable__label sk-toggleable__label-arrow\">OneHotEncoder</label><div class=\"sk-toggleable__content\"><pre>OneHotEncoder(handle_unknown=&#x27;ignore&#x27;)</pre></div></div></div></div></div></div></div></div><div class=\"sk-item\"><div class=\"sk-estimator sk-toggleable\"><input class=\"sk-toggleable__control sk-hidden--visually\" id=\"sk-estimator-id-7\" type=\"checkbox\" ><label for=\"sk-estimator-id-7\" class=\"sk-toggleable__label sk-toggleable__label-arrow\">XGBRegressor</label><div class=\"sk-toggleable__content\"><pre>XGBRegressor(base_score=None, booster=None, callbacks=None,\n",
              "             colsample_bylevel=None, colsample_bynode=None,\n",
              "             colsample_bytree=None, early_stopping_rounds=None,\n",
              "             enable_categorical=False, eval_metric=None, feature_types=None,\n",
              "             gamma=None, gpu_id=None, grow_policy=None, importance_type=None,\n",
              "             interaction_constraints=None, learning_rate=None, max_bin=None,\n",
              "             max_cat_threshold=None, max_cat_to_onehot=None,\n",
              "             max_delta_step=None, max_depth=None, max_leaves=None,\n",
              "             min_child_weight=None, missing=nan, monotone_constraints=None,\n",
              "             n_estimators=100, n_jobs=None, num_parallel_tree=None,\n",
              "             predictor=None, random_state=0, ...)</pre></div></div></div></div></div></div></div>"
            ],
            "text/plain": [
              "Pipeline(steps=[('preprocessor',\n",
              "                 ColumnTransformer(transformers=[('num', SimpleImputer(),\n",
              "                                                  Index(['year', 'price_DKK', 'total_ratings', 'total_reviews', 'light-bold',\n",
              "       'smooth-tannic', 'dry-sweet', 'soft-acidic'],\n",
              "      dtype='object')),\n",
              "                                                 ('cat',\n",
              "                                                  OneHotEncoder(handle_unknown='ignore'),\n",
              "                                                  Index(['sub_region', 'light-bold-cat', 'smooth-tannic-cat', 'dry-sweet-cat',\n",
              "       'soft-acidic-...\n",
              "                              feature_types=None, gamma=None, gpu_id=None,\n",
              "                              grow_policy=None, importance_type=None,\n",
              "                              interaction_constraints=None, learning_rate=None,\n",
              "                              max_bin=None, max_cat_threshold=None,\n",
              "                              max_cat_to_onehot=None, max_delta_step=None,\n",
              "                              max_depth=None, max_leaves=None,\n",
              "                              min_child_weight=None, missing=nan,\n",
              "                              monotone_constraints=None, n_estimators=100,\n",
              "                              n_jobs=None, num_parallel_tree=None,\n",
              "                              predictor=None, random_state=0, ...))])"
            ]
          },
          "execution_count": 8,
          "metadata": {},
          "output_type": "execute_result"
        }
      ],
      "source": [
        "pipeline"
      ]
    },
    {
      "cell_type": "markdown",
      "metadata": {
        "id": "PgA65A7EmM6w"
      },
      "source": [
        "Hyperparameter tuning as well!"
      ]
    },
    {
      "cell_type": "code",
      "execution_count": 16,
      "metadata": {
        "colab": {
          "base_uri": "https://localhost:8080/"
        },
        "id": "eryi_nPYk1C0",
        "outputId": "a52ad376-1338-45a6-ab55-2f916d16361b"
      },
      "outputs": [
        {
          "name": "stdout",
          "output_type": "stream",
          "text": [
            "Fitting 3 folds for each of 8 candidates, totalling 24 fits\n",
            "Best Parameters: {'model__learning_rate': 0.1, 'model__max_depth': 8, 'model__n_estimators': 500}\n",
            "Mean Squared Error on Training Set: 0.020205651088541624\n"
          ]
        }
      ],
      "source": [
        "# Define the model\n",
        "xgb_model = xgb.XGBRegressor(objective='reg:squarederror', random_state=0)\n",
        "\n",
        "# Parameters grid to search\n",
        "param_grid = {\n",
        "    'model__n_estimators': [400, 500],\n",
        "    'model__max_depth': [6, 7, 8, 9],\n",
        "    'model__learning_rate': [0.1]\n",
        "}\n",
        "\n",
        "# Make scorer for R2 score\n",
        "scorer = make_scorer(mean_squared_error, greater_is_better=False)\n",
        "\n",
        "# Create the GridSearchCV object\n",
        "grid_search = GridSearchCV(pipeline, param_grid, scoring=scorer, cv=3, verbose=1, n_jobs=-1)\n",
        "\n",
        "# Fit the grid search to the data\n",
        "grid_search.fit(X_train, y_train)\n",
        "\n",
        "# Best parameters and best score\n",
        "best_parameters = grid_search.best_params_\n",
        "best_score = grid_search.best_score_\n",
        "\n",
        "print(\"Best Parameters:\", best_parameters)\n",
        "\n",
        "# Evaluate the model\n",
        "pipeline = grid_search.best_estimator_\n",
        "score = pipeline.score(X_test, y_test)\n",
        "print(f'Mean Squared Error on Training Set: {-best_score}')"
      ]
    },
    {
      "cell_type": "code",
      "execution_count": 17,
      "metadata": {
        "colab": {
          "base_uri": "https://localhost:8080/",
          "height": 718
        },
        "id": "0uC5qjvprNyT",
        "outputId": "1fabbc94-287a-4de7-a4b6-01ab414ba58b"
      },
      "outputs": [
        {
          "data": {
            "image/png": "[encoded data removed]",
            "text/plain": [
              "<Figure size 1000x800 with 1 Axes>"
            ]
          },
          "metadata": {},
          "output_type": "display_data"
        }
      ],
      "source": [
        "# Assuming 'pipeline' and 'preprocessor' are already defined and the model is fitted\n",
        "\n",
        "# Get all feature names from the ColumnTransformer\n",
        "all_feature_names = preprocessor.get_feature_names_out()\n",
        "\n",
        "# Ensure you have the XGBoost model from the pipeline\n",
        "xgb_model = pipeline.named_steps['model']\n",
        "\n",
        "# Obtain feature importances\n",
        "feature_importances = xgb_model.feature_importances_\n",
        "\n",
        "# Sort the features by importance and select the top 10\n",
        "sorted_indices = np.argsort(feature_importances)[-10:]\n",
        "\n",
        "# Plot the top 10 feature importances\n",
        "plt.figure(figsize=(10, 8))\n",
        "plt.barh(range(len(sorted_indices)), feature_importances[sorted_indices], align='center')\n",
        "plt.yticks(range(len(sorted_indices)), np.array(all_feature_names)[sorted_indices])\n",
        "plt.xlabel('Importance')\n",
        "plt.ylabel('Feature')\n",
        "plt.title('Top 10 Feature Importance')\n",
        "plt.show()\n"
      ]
    },
    {
      "cell_type": "markdown",
      "metadata": {
        "id": "uIsbbCxkn984"
      },
      "source": [
        "## Random Forest"
      ]
    },
    {
      "cell_type": "code",
      "execution_count": 19,
      "metadata": {
        "colab": {
          "base_uri": "https://localhost:8080/"
        },
        "id": "CMglUim2mTT0",
        "outputId": "b629bd5e-3869-4816-8f31-3440c5ca47fd"
      },
      "outputs": [
        {
          "name": "stdout",
          "output_type": "stream",
          "text": [
            "Random Forest Model Score: 0.8496014898179943\n"
          ]
        }
      ],
      "source": [
        "# Define the Random Forest model\n",
        "random_forest_model = RandomForestRegressor(n_estimators=100, random_state=0)\n",
        "\n",
        "# Create and fit the pipeline with Random Forest\n",
        "pipeline_rf = Pipeline(steps=[('preprocessor', preprocessor), ('model', random_forest_model)])\n",
        "pipeline_rf.fit(X_train, y_train)\n",
        "\n",
        "# Evaluate the Random Forest model\n",
        "score_rf = pipeline_rf.score(X_test, y_test)\n",
        "print(f'Random Forest Model Score: {score_rf}')"
      ]
    },
    {
      "cell_type": "code",
      "execution_count": 20,
      "metadata": {
        "colab": {
          "base_uri": "https://localhost:8080/",
          "height": 192
        },
        "id": "DdVWd6_to1RO",
        "outputId": "815c4412-dd78-456a-89b7-d9aa14905c2b"
      },
      "outputs": [
        {
          "data": {
            "text/html": [
              "<style>#sk-container-id-2 {color: black;background-color: white;}#sk-container-id-2 pre{padding: 0;}#sk-container-id-2 div.sk-toggleable {background-color: white;}#sk-container-id-2 label.sk-toggleable__label {cursor: pointer;display: block;width: 100%;margin-bottom: 0;padding: 0.3em;box-sizing: border-box;text-align: center;}#sk-container-id-2 label.sk-toggleable__label-arrow:before {content: \"▸\";float: left;margin-right: 0.25em;color: #696969;}#sk-container-id-2 label.sk-toggleable__label-arrow:hover:before {color: black;}#sk-container-id-2 div.sk-estimator:hover label.sk-toggleable__label-arrow:before {color: black;}#sk-container-id-2 div.sk-toggleable__content {max-height: 0;max-width: 0;overflow: hidden;text-align: left;background-color: #f0f8ff;}#sk-container-id-2 div.sk-toggleable__content pre {margin: 0.2em;color: black;border-radius: 0.25em;background-color: #f0f8ff;}#sk-container-id-2 input.sk-toggleable__control:checked~div.sk-toggleable__content {max-height: 200px;max-width: 100%;overflow: auto;}#sk-container-id-2 input.sk-toggleable__control:checked~label.sk-toggleable__label-arrow:before {content: \"▾\";}#sk-container-id-2 div.sk-estimator input.sk-toggleable__control:checked~label.sk-toggleable__label {background-color: #d4ebff;}#sk-container-id-2 div.sk-label input.sk-toggleable__control:checked~label.sk-toggleable__label {background-color: #d4ebff;}#sk-container-id-2 input.sk-hidden--visually {border: 0;clip: rect(1px 1px 1px 1px);clip: rect(1px, 1px, 1px, 1px);height: 1px;margin: -1px;overflow: hidden;padding: 0;position: absolute;width: 1px;}#sk-container-id-2 div.sk-estimator {font-family: monospace;background-color: #f0f8ff;border: 1px dotted black;border-radius: 0.25em;box-sizing: border-box;margin-bottom: 0.5em;}#sk-container-id-2 div.sk-estimator:hover {background-color: #d4ebff;}#sk-container-id-2 div.sk-parallel-item::after {content: \"\";width: 100%;border-bottom: 1px solid gray;flex-grow: 1;}#sk-container-id-2 div.sk-label:hover label.sk-toggleable__label {background-color: #d4ebff;}#sk-container-id-2 div.sk-serial::before {content: \"\";position: absolute;border-left: 1px solid gray;box-sizing: border-box;top: 0;bottom: 0;left: 50%;z-index: 0;}#sk-container-id-2 div.sk-serial {display: flex;flex-direction: column;align-items: center;background-color: white;padding-right: 0.2em;padding-left: 0.2em;position: relative;}#sk-container-id-2 div.sk-item {position: relative;z-index: 1;}#sk-container-id-2 div.sk-parallel {display: flex;align-items: stretch;justify-content: center;background-color: white;position: relative;}#sk-container-id-2 div.sk-item::before, #sk-container-id-2 div.sk-parallel-item::before {content: \"\";position: absolute;border-left: 1px solid gray;box-sizing: border-box;top: 0;bottom: 0;left: 50%;z-index: -1;}#sk-container-id-2 div.sk-parallel-item {display: flex;flex-direction: column;z-index: 1;position: relative;background-color: white;}#sk-container-id-2 div.sk-parallel-item:first-child::after {align-self: flex-end;width: 50%;}#sk-container-id-2 div.sk-parallel-item:last-child::after {align-self: flex-start;width: 50%;}#sk-container-id-2 div.sk-parallel-item:only-child::after {width: 0;}#sk-container-id-2 div.sk-dashed-wrapped {border: 1px dashed gray;margin: 0 0.4em 0.5em 0.4em;box-sizing: border-box;padding-bottom: 0.4em;background-color: white;}#sk-container-id-2 div.sk-label label {font-family: monospace;font-weight: bold;display: inline-block;line-height: 1.2em;}#sk-container-id-2 div.sk-label-container {text-align: center;}#sk-container-id-2 div.sk-container {/* jupyter's `normalize.less` sets `[hidden] { display: none; }` but bootstrap.min.css set `[hidden] { display: none !important; }` so we also need the `!important` here to be able to override the default hidden behavior on the sphinx rendered scikit-learn.org. See: https://github.com/scikit-learn/scikit-learn/issues/21755 */display: inline-block !important;position: relative;}#sk-container-id-2 div.sk-text-repr-fallback {display: none;}</style><div id=\"sk-container-id-2\" class=\"sk-top-container\"><div class=\"sk-text-repr-fallback\"><pre>Pipeline(steps=[(&#x27;preprocessor&#x27;,\n",
              "                 ColumnTransformer(transformers=[(&#x27;num&#x27;, SimpleImputer(),\n",
              "                                                  Index([&#x27;year&#x27;, &#x27;price_DKK&#x27;, &#x27;total_ratings&#x27;, &#x27;total_reviews&#x27;, &#x27;light-bold&#x27;,\n",
              "       &#x27;smooth-tannic&#x27;, &#x27;dry-sweet&#x27;, &#x27;soft-acidic&#x27;],\n",
              "      dtype=&#x27;object&#x27;)),\n",
              "                                                 (&#x27;cat&#x27;,\n",
              "                                                  OneHotEncoder(handle_unknown=&#x27;ignore&#x27;),\n",
              "                                                  Index([&#x27;sub_region&#x27;, &#x27;light-bold-cat&#x27;, &#x27;smooth-tannic-cat&#x27;, &#x27;dry-sweet-cat&#x27;,\n",
              "       &#x27;soft-acidic-cat&#x27;, &#x27;region&#x27;, &#x27;cardinal_1&#x27;, &#x27;cardinal_2&#x27;],\n",
              "      dtype=&#x27;object&#x27;))])),\n",
              "                (&#x27;model&#x27;, RandomForestRegressor(random_state=0))])</pre><b>In a Jupyter environment, please rerun this cell to show the HTML representation or trust the notebook. <br />On GitHub, the HTML representation is unable to render, please try loading this page with nbviewer.org.</b></div><div class=\"sk-container\" hidden><div class=\"sk-item sk-dashed-wrapped\"><div class=\"sk-label-container\"><div class=\"sk-label sk-toggleable\"><input class=\"sk-toggleable__control sk-hidden--visually\" id=\"sk-estimator-id-8\" type=\"checkbox\" ><label for=\"sk-estimator-id-8\" class=\"sk-toggleable__label sk-toggleable__label-arrow\">Pipeline</label><div class=\"sk-toggleable__content\"><pre>Pipeline(steps=[(&#x27;preprocessor&#x27;,\n",
              "                 ColumnTransformer(transformers=[(&#x27;num&#x27;, SimpleImputer(),\n",
              "                                                  Index([&#x27;year&#x27;, &#x27;price_DKK&#x27;, &#x27;total_ratings&#x27;, &#x27;total_reviews&#x27;, &#x27;light-bold&#x27;,\n",
              "       &#x27;smooth-tannic&#x27;, &#x27;dry-sweet&#x27;, &#x27;soft-acidic&#x27;],\n",
              "      dtype=&#x27;object&#x27;)),\n",
              "                                                 (&#x27;cat&#x27;,\n",
              "                                                  OneHotEncoder(handle_unknown=&#x27;ignore&#x27;),\n",
              "                                                  Index([&#x27;sub_region&#x27;, &#x27;light-bold-cat&#x27;, &#x27;smooth-tannic-cat&#x27;, &#x27;dry-sweet-cat&#x27;,\n",
              "       &#x27;soft-acidic-cat&#x27;, &#x27;region&#x27;, &#x27;cardinal_1&#x27;, &#x27;cardinal_2&#x27;],\n",
              "      dtype=&#x27;object&#x27;))])),\n",
              "                (&#x27;model&#x27;, RandomForestRegressor(random_state=0))])</pre></div></div></div><div class=\"sk-serial\"><div class=\"sk-item sk-dashed-wrapped\"><div class=\"sk-label-container\"><div class=\"sk-label sk-toggleable\"><input class=\"sk-toggleable__control sk-hidden--visually\" id=\"sk-estimator-id-9\" type=\"checkbox\" ><label for=\"sk-estimator-id-9\" class=\"sk-toggleable__label sk-toggleable__label-arrow\">preprocessor: ColumnTransformer</label><div class=\"sk-toggleable__content\"><pre>ColumnTransformer(transformers=[(&#x27;num&#x27;, SimpleImputer(),\n",
              "                                 Index([&#x27;year&#x27;, &#x27;price_DKK&#x27;, &#x27;total_ratings&#x27;, &#x27;total_reviews&#x27;, &#x27;light-bold&#x27;,\n",
              "       &#x27;smooth-tannic&#x27;, &#x27;dry-sweet&#x27;, &#x27;soft-acidic&#x27;],\n",
              "      dtype=&#x27;object&#x27;)),\n",
              "                                (&#x27;cat&#x27;, OneHotEncoder(handle_unknown=&#x27;ignore&#x27;),\n",
              "                                 Index([&#x27;sub_region&#x27;, &#x27;light-bold-cat&#x27;, &#x27;smooth-tannic-cat&#x27;, &#x27;dry-sweet-cat&#x27;,\n",
              "       &#x27;soft-acidic-cat&#x27;, &#x27;region&#x27;, &#x27;cardinal_1&#x27;, &#x27;cardinal_2&#x27;],\n",
              "      dtype=&#x27;object&#x27;))])</pre></div></div></div><div class=\"sk-parallel\"><div class=\"sk-parallel-item\"><div class=\"sk-item\"><div class=\"sk-label-container\"><div class=\"sk-label sk-toggleable\"><input class=\"sk-toggleable__control sk-hidden--visually\" id=\"sk-estimator-id-10\" type=\"checkbox\" ><label for=\"sk-estimator-id-10\" class=\"sk-toggleable__label sk-toggleable__label-arrow\">num</label><div class=\"sk-toggleable__content\"><pre>Index([&#x27;year&#x27;, &#x27;price_DKK&#x27;, &#x27;total_ratings&#x27;, &#x27;total_reviews&#x27;, &#x27;light-bold&#x27;,\n",
              "       &#x27;smooth-tannic&#x27;, &#x27;dry-sweet&#x27;, &#x27;soft-acidic&#x27;],\n",
              "      dtype=&#x27;object&#x27;)</pre></div></div></div><div class=\"sk-serial\"><div class=\"sk-item\"><div class=\"sk-estimator sk-toggleable\"><input class=\"sk-toggleable__control sk-hidden--visually\" id=\"sk-estimator-id-11\" type=\"checkbox\" ><label for=\"sk-estimator-id-11\" class=\"sk-toggleable__label sk-toggleable__label-arrow\">SimpleImputer</label><div class=\"sk-toggleable__content\"><pre>SimpleImputer()</pre></div></div></div></div></div></div><div class=\"sk-parallel-item\"><div class=\"sk-item\"><div class=\"sk-label-container\"><div class=\"sk-label sk-toggleable\"><input class=\"sk-toggleable__control sk-hidden--visually\" id=\"sk-estimator-id-12\" type=\"checkbox\" ><label for=\"sk-estimator-id-12\" class=\"sk-toggleable__label sk-toggleable__label-arrow\">cat</label><div class=\"sk-toggleable__content\"><pre>Index([&#x27;sub_region&#x27;, &#x27;light-bold-cat&#x27;, &#x27;smooth-tannic-cat&#x27;, &#x27;dry-sweet-cat&#x27;,\n",
              "       &#x27;soft-acidic-cat&#x27;, &#x27;region&#x27;, &#x27;cardinal_1&#x27;, &#x27;cardinal_2&#x27;],\n",
              "      dtype=&#x27;object&#x27;)</pre></div></div></div><div class=\"sk-serial\"><div class=\"sk-item\"><div class=\"sk-estimator sk-toggleable\"><input class=\"sk-toggleable__control sk-hidden--visually\" id=\"sk-estimator-id-13\" type=\"checkbox\" ><label for=\"sk-estimator-id-13\" class=\"sk-toggleable__label sk-toggleable__label-arrow\">OneHotEncoder</label><div class=\"sk-toggleable__content\"><pre>OneHotEncoder(handle_unknown=&#x27;ignore&#x27;)</pre></div></div></div></div></div></div></div></div><div class=\"sk-item\"><div class=\"sk-estimator sk-toggleable\"><input class=\"sk-toggleable__control sk-hidden--visually\" id=\"sk-estimator-id-14\" type=\"checkbox\" ><label for=\"sk-estimator-id-14\" class=\"sk-toggleable__label sk-toggleable__label-arrow\">RandomForestRegressor</label><div class=\"sk-toggleable__content\"><pre>RandomForestRegressor(random_state=0)</pre></div></div></div></div></div></div></div>"
            ],
            "text/plain": [
              "Pipeline(steps=[('preprocessor',\n",
              "                 ColumnTransformer(transformers=[('num', SimpleImputer(),\n",
              "                                                  Index(['year', 'price_DKK', 'total_ratings', 'total_reviews', 'light-bold',\n",
              "       'smooth-tannic', 'dry-sweet', 'soft-acidic'],\n",
              "      dtype='object')),\n",
              "                                                 ('cat',\n",
              "                                                  OneHotEncoder(handle_unknown='ignore'),\n",
              "                                                  Index(['sub_region', 'light-bold-cat', 'smooth-tannic-cat', 'dry-sweet-cat',\n",
              "       'soft-acidic-cat', 'region', 'cardinal_1', 'cardinal_2'],\n",
              "      dtype='object'))])),\n",
              "                ('model', RandomForestRegressor(random_state=0))])"
            ]
          },
          "execution_count": 20,
          "metadata": {},
          "output_type": "execute_result"
        }
      ],
      "source": [
        "pipeline_rf"
      ]
    },
    {
      "cell_type": "code",
      "execution_count": 23,
      "metadata": {
        "colab": {
          "base_uri": "https://localhost:8080/"
        },
        "id": "iq2RyjROoLD-",
        "outputId": "3d36669a-b3d2-4732-ec7f-6ed4e5aa20ce"
      },
      "outputs": [
        {
          "name": "stdout",
          "output_type": "stream",
          "text": [
            "Fitting 3 folds for each of 8 candidates, totalling 24 fits\n",
            "[CV] END model__max_depth=20, model__min_samples_split=5, model__n_estimators=200; total time=  19.7s\n",
            "[CV] END model__max_depth=20, model__min_samples_split=5, model__n_estimators=200; total time=  19.9s\n",
            "[CV] END model__max_depth=20, model__min_samples_split=2, model__n_estimators=200; total time=  22.1s\n",
            "[CV] END model__max_depth=20, model__min_samples_split=2, model__n_estimators=200; total time=  22.1s\n",
            "[CV] END model__max_depth=20, model__min_samples_split=2, model__n_estimators=200; total time=  22.6s\n",
            "[CV] END model__max_depth=20, model__min_samples_split=2, model__n_estimators=300; total time=  33.3s\n",
            "[CV] END model__max_depth=20, model__min_samples_split=2, model__n_estimators=300; total time=  33.5s\n",
            "[CV] END model__max_depth=20, model__min_samples_split=2, model__n_estimators=300; total time=  33.9s\n"
          ]
        }
      ],
      "source": [
        "# Define the parameters grid to search\n",
        "param_grid_rf = {\n",
        "    'model__n_estimators': [200, 300],\n",
        "    'model__max_depth': [20, 25],\n",
        "    'model__min_samples_split': [2, 5]\n",
        "}\n",
        "\n",
        "scorer_rf = make_scorer(mean_squared_error, greater_is_better=False)\n",
        "\n",
        "# Create the GridSearchCV object for Random Forest\n",
        "grid_search_rf = GridSearchCV(pipeline_rf, param_grid_rf, cv=3, scoring=scorer_rf, verbose=2, n_jobs=-1)\n",
        "\n",
        "# Fit the grid search to the data\n",
        "grid_search_rf.fit(X_train, y_train)\n",
        "\n",
        "# Best parameters and best score for Random Forest\n",
        "best_parameters_rf = grid_search_rf.best_params_\n",
        "best_score_rf = grid_search_rf.best_score_\n",
        "\n",
        "print(\"Best Parameters for Random Forest:\", best_parameters_rf)\n",
        "print(\"Best Score for Random Forest:\", -best_score_rf)\n"
      ]
    },
    {
      "cell_type": "code",
      "execution_count": null,
      "metadata": {
        "id": "MUaPhOo3oxZ6"
      },
      "outputs": [],
      "source": []
    }
  ],
  "metadata": {
    "colab": {
      "provenance": []
    },
    "kernelspec": {
      "display_name": "Python 3",
      "name": "python3"
    },
    "language_info": {
      "codemirror_mode": {
        "name": "ipython",
        "version": 3
      },
      "file_extension": ".py",
      "mimetype": "text/x-python",
      "name": "python",
      "nbconvert_exporter": "python",
      "pygments_lexer": "ipython3",
      "version": "3.9.7"
    }
  },
  "nbformat": 4,
  "nbformat_minor": 0
}
